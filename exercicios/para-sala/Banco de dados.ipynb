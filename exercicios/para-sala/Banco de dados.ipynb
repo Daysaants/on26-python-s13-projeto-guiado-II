{
 "cells": [
  {
   "cell_type": "markdown",
   "id": "3fb51551",
   "metadata": {},
   "source": [
    "## Banco de dados"
   ]
  },
  {
   "cell_type": "code",
   "execution_count": 1,
   "id": "6f065d6e",
   "metadata": {},
   "outputs": [],
   "source": [
    "import csv\n",
    "import sqlite3"
   ]
  },
  {
   "cell_type": "code",
   "execution_count": 2,
   "id": "a7aa9973",
   "metadata": {},
   "outputs": [],
   "source": [
    "file = open(\"assassinosemserie.csv\", encoding= 'UTF-8') "
   ]
  },
  {
   "cell_type": "code",
   "execution_count": 3,
   "id": "f4c6aa9b",
   "metadata": {},
   "outputs": [],
   "source": [
    "import numpy\n"
   ]
  },
  {
   "cell_type": "code",
   "execution_count": 5,
   "id": "29d391ef",
   "metadata": {},
   "outputs": [
    {
     "name": "stdout",
     "output_type": "stream",
     "text": [
      "Collecting cvc\n",
      "  Using cached cvc-0.8.0.tar.gz (56 kB)\n",
      "  Installing build dependencies: started\n",
      "  Installing build dependencies: finished with status 'done'\n",
      "  Getting requirements to build wheel: started\n",
      "  Getting requirements to build wheel: finished with status 'error'\n",
      "Note: you may need to restart the kernel to use updated packages.\n"
     ]
    },
    {
     "name": "stderr",
     "output_type": "stream",
     "text": [
      "  error: subprocess-exited-with-error\n",
      "  \n",
      "  × Getting requirements to build wheel did not run successfully.\n",
      "  │ exit code: 1\n",
      "  ╰─> [20 lines of output]\n",
      "      Traceback (most recent call last):\n",
      "        File \"C:\\Program Files\\WindowsApps\\PythonSoftwareFoundation.Python.3.11_3.11.1776.0_x64__qbz5n2kfra8p0\\Lib\\site-packages\\pip\\_vendor\\pyproject_hooks\\_in_process\\_in_process.py\", line 353, in <module>\n",
      "          main()\n",
      "        File \"C:\\Program Files\\WindowsApps\\PythonSoftwareFoundation.Python.3.11_3.11.1776.0_x64__qbz5n2kfra8p0\\Lib\\site-packages\\pip\\_vendor\\pyproject_hooks\\_in_process\\_in_process.py\", line 335, in main\n",
      "          json_out['return_val'] = hook(**hook_input['kwargs'])\n",
      "                                   ^^^^^^^^^^^^^^^^^^^^^^^^^^^^\n",
      "        File \"C:\\Program Files\\WindowsApps\\PythonSoftwareFoundation.Python.3.11_3.11.1776.0_x64__qbz5n2kfra8p0\\Lib\\site-packages\\pip\\_vendor\\pyproject_hooks\\_in_process\\_in_process.py\", line 118, in get_requires_for_build_wheel\n",
      "          return hook(config_settings)\n",
      "                 ^^^^^^^^^^^^^^^^^^^^^\n",
      "        File \"C:\\Users\\Webfoco\\AppData\\Local\\Temp\\pip-build-env-so2h9he0\\overlay\\Lib\\site-packages\\setuptools\\build_meta.py\", line 355, in get_requires_for_build_wheel\n",
      "          return self._get_build_requires(config_settings, requirements=['wheel'])\n",
      "                 ^^^^^^^^^^^^^^^^^^^^^^^^^^^^^^^^^^^^^^^^^^^^^^^^^^^^^^^^^^^^^^^^^\n",
      "        File \"C:\\Users\\Webfoco\\AppData\\Local\\Temp\\pip-build-env-so2h9he0\\overlay\\Lib\\site-packages\\setuptools\\build_meta.py\", line 325, in _get_build_requires\n",
      "          self.run_setup()\n",
      "        File \"C:\\Users\\Webfoco\\AppData\\Local\\Temp\\pip-build-env-so2h9he0\\overlay\\Lib\\site-packages\\setuptools\\build_meta.py\", line 507, in run_setup\n",
      "          super(_BuildMetaLegacyBackend, self).run_setup(setup_script=setup_script)\n",
      "        File \"C:\\Users\\Webfoco\\AppData\\Local\\Temp\\pip-build-env-so2h9he0\\overlay\\Lib\\site-packages\\setuptools\\build_meta.py\", line 341, in run_setup\n",
      "          exec(code, locals())\n",
      "        File \"<string>\", line 3, in <module>\n",
      "      FileNotFoundError: [Errno 2] No such file or directory: 'README.md'\n",
      "      [end of output]\n",
      "  \n",
      "  note: This error originates from a subprocess, and is likely not a problem with pip.\n",
      "error: subprocess-exited-with-error\n",
      "\n",
      "× Getting requirements to build wheel did not run successfully.\n",
      "│ exit code: 1\n",
      "╰─> See above for output.\n",
      "\n",
      "note: This error originates from a subprocess, and is likely not a problem with pip.\n",
      "\n",
      "[notice] A new release of pip is available: 23.2.1 -> 23.3.1\n",
      "[notice] To update, run: C:\\Users\\Webfoco\\AppData\\Local\\Microsoft\\WindowsApps\\PythonSoftwareFoundation.Python.3.11_qbz5n2kfra8p0\\python.exe -m pip install --upgrade pip\n"
     ]
    }
   ],
   "source": [
    "pip install cvc\n"
   ]
  },
  {
   "cell_type": "code",
   "execution_count": 3,
   "id": "eaaee9c6",
   "metadata": {},
   "outputs": [],
   "source": [
    "conteudo = csv.reader(file)\n",
    "\n",
    "connection = sqlite3.connect(\"assassinosemserie.db\")\n",
    "\n",
    "cursor = connection.cursor()"
   ]
  },
  {
   "cell_type": "code",
   "execution_count": 14,
   "id": "25d07ce5",
   "metadata": {},
   "outputs": [
    {
     "ename": "ProgrammingError",
     "evalue": "Cannot operate on a closed database.",
     "output_type": "error",
     "traceback": [
      "\u001b[1;31m---------------------------------------------------------------------------\u001b[0m",
      "\u001b[1;31mProgrammingError\u001b[0m                          Traceback (most recent call last)",
      "\u001b[1;32mc:\\Users\\Webfoco\\on26-python-s13-projeto-guiado-II\\exercicios\\para-sala\\Banco de dados.ipynb Cell 7\u001b[0m line \u001b[0;36m1\n\u001b[1;32m----> <a href='vscode-notebook-cell:/c%3A/Users/Webfoco/on26-python-s13-projeto-guiado-II/exercicios/para-sala/Banco%20de%20dados.ipynb#W6sZmlsZQ%3D%3D?line=0'>1</a>\u001b[0m cursor\u001b[39m.\u001b[39;49mexecute(\u001b[39m'''\u001b[39;49m\n\u001b[0;32m      <a href='vscode-notebook-cell:/c%3A/Users/Webfoco/on26-python-s13-projeto-guiado-II/exercicios/para-sala/Banco%20de%20dados.ipynb#W6sZmlsZQ%3D%3D?line=1'>2</a>\u001b[0m \u001b[39m    CREATE TABLE IF NOT EXISTS rank (\u001b[39;49m\n\u001b[0;32m      <a href='vscode-notebook-cell:/c%3A/Users/Webfoco/on26-python-s13-projeto-guiado-II/exercicios/para-sala/Banco%20de%20dados.ipynb#W6sZmlsZQ%3D%3D?line=2'>3</a>\u001b[0m \u001b[39m        Rank INT,\u001b[39;49m\n\u001b[0;32m      <a href='vscode-notebook-cell:/c%3A/Users/Webfoco/on26-python-s13-projeto-guiado-II/exercicios/para-sala/Banco%20de%20dados.ipynb#W6sZmlsZQ%3D%3D?line=3'>4</a>\u001b[0m \u001b[39m        Username VARCHAR,\u001b[39;49m\n\u001b[0;32m      <a href='vscode-notebook-cell:/c%3A/Users/Webfoco/on26-python-s13-projeto-guiado-II/exercicios/para-sala/Banco%20de%20dados.ipynb#W6sZmlsZQ%3D%3D?line=4'>5</a>\u001b[0m \u001b[39m        Categories VARCHAR, \u001b[39;49m\n\u001b[0;32m      <a href='vscode-notebook-cell:/c%3A/Users/Webfoco/on26-python-s13-projeto-guiado-II/exercicios/para-sala/Banco%20de%20dados.ipynb#W6sZmlsZQ%3D%3D?line=5'>6</a>\u001b[0m \u001b[39m        Subscribers FLOAT,\u001b[39;49m\n\u001b[0;32m      <a href='vscode-notebook-cell:/c%3A/Users/Webfoco/on26-python-s13-projeto-guiado-II/exercicios/para-sala/Banco%20de%20dados.ipynb#W6sZmlsZQ%3D%3D?line=6'>7</a>\u001b[0m \u001b[39m        Country VARCHAR,\u001b[39;49m\n\u001b[0;32m      <a href='vscode-notebook-cell:/c%3A/Users/Webfoco/on26-python-s13-projeto-guiado-II/exercicios/para-sala/Banco%20de%20dados.ipynb#W6sZmlsZQ%3D%3D?line=7'>8</a>\u001b[0m \u001b[39m        Visits FLOAT,\u001b[39;49m\n\u001b[0;32m      <a href='vscode-notebook-cell:/c%3A/Users/Webfoco/on26-python-s13-projeto-guiado-II/exercicios/para-sala/Banco%20de%20dados.ipynb#W6sZmlsZQ%3D%3D?line=8'>9</a>\u001b[0m \u001b[39m        Likes FLOAT,\u001b[39;49m\n\u001b[0;32m     <a href='vscode-notebook-cell:/c%3A/Users/Webfoco/on26-python-s13-projeto-guiado-II/exercicios/para-sala/Banco%20de%20dados.ipynb#W6sZmlsZQ%3D%3D?line=9'>10</a>\u001b[0m \u001b[39m        Comments FLOAT,\u001b[39;49m\n\u001b[0;32m     <a href='vscode-notebook-cell:/c%3A/Users/Webfoco/on26-python-s13-projeto-guiado-II/exercicios/para-sala/Banco%20de%20dados.ipynb#W6sZmlsZQ%3D%3D?line=10'>11</a>\u001b[0m \u001b[39m        Links VARCHAR,\u001b[39;49m\n\u001b[0;32m     <a href='vscode-notebook-cell:/c%3A/Users/Webfoco/on26-python-s13-projeto-guiado-II/exercicios/para-sala/Banco%20de%20dados.ipynb#W6sZmlsZQ%3D%3D?line=11'>12</a>\u001b[0m \u001b[39m        Name VARCHAR,\u001b[39;49m\n\u001b[0;32m     <a href='vscode-notebook-cell:/c%3A/Users/Webfoco/on26-python-s13-projeto-guiado-II/exercicios/para-sala/Banco%20de%20dados.ipynb#W6sZmlsZQ%3D%3D?line=12'>13</a>\u001b[0m \u001b[39m        Years_active INT,\u001b[39;49m\n\u001b[0;32m     <a href='vscode-notebook-cell:/c%3A/Users/Webfoco/on26-python-s13-projeto-guiado-II/exercicios/para-sala/Banco%20de%20dados.ipynb#W6sZmlsZQ%3D%3D?line=13'>14</a>\u001b[0m \u001b[39m        Proven_victims INT,\u001b[39;49m\n\u001b[0;32m     <a href='vscode-notebook-cell:/c%3A/Users/Webfoco/on26-python-s13-projeto-guiado-II/exercicios/para-sala/Banco%20de%20dados.ipynb#W6sZmlsZQ%3D%3D?line=14'>15</a>\u001b[0m \u001b[39m        Possible_victims INT,\u001b[39;49m\n\u001b[0;32m     <a href='vscode-notebook-cell:/c%3A/Users/Webfoco/on26-python-s13-projeto-guiado-II/exercicios/para-sala/Banco%20de%20dados.ipynb#W6sZmlsZQ%3D%3D?line=15'>16</a>\u001b[0m \u001b[39m        Notes VARCHAR\u001b[39;49m\n\u001b[0;32m     <a href='vscode-notebook-cell:/c%3A/Users/Webfoco/on26-python-s13-projeto-guiado-II/exercicios/para-sala/Banco%20de%20dados.ipynb#W6sZmlsZQ%3D%3D?line=16'>17</a>\u001b[0m \u001b[39m    )\u001b[39;49m\n\u001b[0;32m     <a href='vscode-notebook-cell:/c%3A/Users/Webfoco/on26-python-s13-projeto-guiado-II/exercicios/para-sala/Banco%20de%20dados.ipynb#W6sZmlsZQ%3D%3D?line=17'>18</a>\u001b[0m \u001b[39m'''\u001b[39;49m)\n",
      "\u001b[1;31mProgrammingError\u001b[0m: Cannot operate on a closed database."
     ]
    }
   ],
   "source": [
    "\n",
    "cursor.execute('''\n",
    "    CREATE TABLE IF NOT EXISTS rank (\n",
    "        Rank INT,\n",
    "        Username VARCHAR,\n",
    "        Categories VARCHAR, \n",
    "        Subscribers FLOAT,\n",
    "        Country VARCHAR,\n",
    "        Visits FLOAT,\n",
    "        Likes FLOAT,\n",
    "        Comments FLOAT,\n",
    "        Links VARCHAR,\n",
    "        Name VARCHAR,\n",
    "        Years_active INT,\n",
    "        Proven_victims INT,\n",
    "        Possible_victims INT,\n",
    "        Notes VARCHAR\n",
    "    )\n",
    "''')\n"
   ]
  },
  {
   "cell_type": "code",
   "execution_count": 7,
   "id": "8a047292",
   "metadata": {},
   "outputs": [
    {
     "ename": "OperationalError",
     "evalue": "table rank has no column named Suscribers",
     "output_type": "error",
     "traceback": [
      "\u001b[1;31m---------------------------------------------------------------------------\u001b[0m",
      "\u001b[1;31mOperationalError\u001b[0m                          Traceback (most recent call last)",
      "\u001b[1;32mc:\\Users\\Webfoco\\on26-python-s13-projeto-guiado-II\\exercicios\\para-sala\\Banco de dados.ipynb Cell 8\u001b[0m line \u001b[0;36m3\n\u001b[0;32m      <a href='vscode-notebook-cell:/c%3A/Users/Webfoco/on26-python-s13-projeto-guiado-II/exercicios/para-sala/Banco%20de%20dados.ipynb#X10sZmlsZQ%3D%3D?line=0'>1</a>\u001b[0m inserir_conteudo \u001b[39m=\u001b[39m \u001b[39m\"\u001b[39m\u001b[39mINSERT INTO rank (Rank,Username,Categories,Suscribers,Country,Visits,Likes,Comments,Links)VALUES(?, ?, ?, ?, ?, ?, ?, ?, ?)\u001b[39m\u001b[39m\"\u001b[39m\n\u001b[1;32m----> <a href='vscode-notebook-cell:/c%3A/Users/Webfoco/on26-python-s13-projeto-guiado-II/exercicios/para-sala/Banco%20de%20dados.ipynb#X10sZmlsZQ%3D%3D?line=2'>3</a>\u001b[0m cursor\u001b[39m.\u001b[39;49mexecutemany(inserir_conteudo, conteudo)\n",
      "\u001b[1;31mOperationalError\u001b[0m: table rank has no column named Suscribers"
     ]
    }
   ],
   "source": [
    "\n",
    "inserir_conteudo = \"INSERT INTO rank (Rank,Username,Categories,Suscribers,Country,Visits,Likes,Comments,Links)VALUES(?, ?, ?, ?, ?, ?, ?, ?, ?)\"\n",
    "\n",
    "cursor.executemany(inserir_conteudo, conteudo)\n",
    "\n"
   ]
  },
  {
   "cell_type": "code",
   "execution_count": 13,
   "id": "51ed46b3",
   "metadata": {},
   "outputs": [
    {
     "ename": "ProgrammingError",
     "evalue": "Cannot operate on a closed database.",
     "output_type": "error",
     "traceback": [
      "\u001b[1;31m---------------------------------------------------------------------------\u001b[0m",
      "\u001b[1;31mProgrammingError\u001b[0m                          Traceback (most recent call last)",
      "\u001b[1;32mc:\\Users\\Webfoco\\on26-python-s13-projeto-guiado-II\\exercicios\\para-sala\\Banco de dados.ipynb Cell 8\u001b[0m line \u001b[0;36m2\n\u001b[0;32m      <a href='vscode-notebook-cell:/c%3A/Users/Webfoco/on26-python-s13-projeto-guiado-II/exercicios/para-sala/Banco%20de%20dados.ipynb#X11sZmlsZQ%3D%3D?line=0'>1</a>\u001b[0m selecionar_tudo \u001b[39m=\u001b[39m \u001b[39m\"\u001b[39m\u001b[39mSELECT * FROM rank\u001b[39m\u001b[39m\"\u001b[39m\n\u001b[1;32m----> <a href='vscode-notebook-cell:/c%3A/Users/Webfoco/on26-python-s13-projeto-guiado-II/exercicios/para-sala/Banco%20de%20dados.ipynb#X11sZmlsZQ%3D%3D?line=1'>2</a>\u001b[0m entradas \u001b[39m=\u001b[39m cursor\u001b[39m.\u001b[39;49mexecute(selecionar_tudo)\u001b[39m.\u001b[39mfetchall()\n",
      "\u001b[1;31mProgrammingError\u001b[0m: Cannot operate on a closed database."
     ]
    }
   ],
   "source": [
    "selecionar_tudo = \"SELECT * FROM rank\"\n",
    "entradas = cursor.execute(selecionar_tudo).fetchall()"
   ]
  },
  {
   "cell_type": "code",
   "execution_count": 10,
   "id": "f30ba732",
   "metadata": {},
   "outputs": [],
   "source": [
    "for entrada in entradas:\n",
    "  print(entrada)"
   ]
  },
  {
   "cell_type": "code",
   "execution_count": 11,
   "id": "a7dcca72",
   "metadata": {},
   "outputs": [],
   "source": [
    "connection.commit()\n",
    "connection.close()"
   ]
  },
  {
   "cell_type": "code",
   "execution_count": null,
   "id": "676a9111",
   "metadata": {},
   "outputs": [],
   "source": []
  }
 ],
 "metadata": {
  "kernelspec": {
   "display_name": "Python 3 (ipykernel)",
   "language": "python",
   "name": "python3"
  },
  "language_info": {
   "codemirror_mode": {
    "name": "ipython",
    "version": 3
   },
   "file_extension": ".py",
   "mimetype": "text/x-python",
   "name": "python",
   "nbconvert_exporter": "python",
   "pygments_lexer": "ipython3",
   "version": "3.11.6"
  }
 },
 "nbformat": 4,
 "nbformat_minor": 5
}
